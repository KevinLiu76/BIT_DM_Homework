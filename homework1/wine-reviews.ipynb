{
 "cells": [
  {
   "cell_type": "markdown",
   "id": "ce0e3e94",
   "metadata": {},
   "source": [
    "## 互评作业1：数据探索性分析与数据预处理：wine-reviews\n",
    "学号：1120183560 姓名：刘文楷"
   ]
  },
  {
   "cell_type": "markdown",
   "id": "1789dc8f",
   "metadata": {},
   "source": [
    "### 1. 数据集：wine-reviews\n",
    "两个csv文件：\n",
    "- winemag-data_first150k.csv 10列15万行评论\n",
    "- winemag-data-130k-v2.csv 10列13万行评论\n",
    "\n",
    "读取数据："
   ]
  },
  {
   "cell_type": "code",
   "execution_count": 1,
   "id": "b7cf765f",
   "metadata": {},
   "outputs": [],
   "source": [
    "%matplotlib inline\n",
    "import matplotlib\n",
    "import numpy as np\n",
    "import pandas as pd"
   ]
  },
  {
   "cell_type": "code",
   "execution_count": 2,
   "id": "4caa0e98",
   "metadata": {},
   "outputs": [],
   "source": [
    "dirpath_150k = \"wine-data/winemag-data_first150k.csv\"\n",
    "dirpath_130k = \"wine-data/winemag-data-130k-v2.csv\"\n",
    "data_150k = pd.read_csv(dirpath_150k)\n",
    "data_130k = pd.read_csv(dirpath_130k)"
   ]
  },
  {
   "cell_type": "markdown",
   "id": "eb08c1e1",
   "metadata": {},
   "source": [
    "数据属性："
   ]
  },
  {
   "cell_type": "code",
   "execution_count": 3,
   "id": "063655c1",
   "metadata": {},
   "outputs": [
    {
     "data": {
      "text/plain": [
       "Unnamed: 0       int64\n",
       "country         object\n",
       "description     object\n",
       "designation     object\n",
       "points           int64\n",
       "price          float64\n",
       "province        object\n",
       "region_1        object\n",
       "region_2        object\n",
       "variety         object\n",
       "winery          object\n",
       "dtype: object"
      ]
     },
     "execution_count": 3,
     "metadata": {},
     "output_type": "execute_result"
    }
   ],
   "source": [
    "# 数据类型\n",
    "data_150k.dtypes"
   ]
  },
  {
   "cell_type": "code",
   "execution_count": 4,
   "id": "62c7dfa7",
   "metadata": {},
   "outputs": [
    {
     "data": {
      "text/html": [
       "<div>\n",
       "<style scoped>\n",
       "    .dataframe tbody tr th:only-of-type {\n",
       "        vertical-align: middle;\n",
       "    }\n",
       "\n",
       "    .dataframe tbody tr th {\n",
       "        vertical-align: top;\n",
       "    }\n",
       "\n",
       "    .dataframe thead th {\n",
       "        text-align: right;\n",
       "    }\n",
       "</style>\n",
       "<table border=\"1\" class=\"dataframe\">\n",
       "  <thead>\n",
       "    <tr style=\"text-align: right;\">\n",
       "      <th></th>\n",
       "      <th>Unnamed: 0</th>\n",
       "      <th>country</th>\n",
       "      <th>description</th>\n",
       "      <th>designation</th>\n",
       "      <th>points</th>\n",
       "      <th>price</th>\n",
       "      <th>province</th>\n",
       "      <th>region_1</th>\n",
       "      <th>region_2</th>\n",
       "      <th>variety</th>\n",
       "      <th>winery</th>\n",
       "    </tr>\n",
       "  </thead>\n",
       "  <tbody>\n",
       "    <tr>\n",
       "      <th>0</th>\n",
       "      <td>0</td>\n",
       "      <td>US</td>\n",
       "      <td>This tremendous 100% varietal wine hails from ...</td>\n",
       "      <td>Martha's Vineyard</td>\n",
       "      <td>96</td>\n",
       "      <td>235.0</td>\n",
       "      <td>California</td>\n",
       "      <td>Napa Valley</td>\n",
       "      <td>Napa</td>\n",
       "      <td>Cabernet Sauvignon</td>\n",
       "      <td>Heitz</td>\n",
       "    </tr>\n",
       "    <tr>\n",
       "      <th>1</th>\n",
       "      <td>1</td>\n",
       "      <td>Spain</td>\n",
       "      <td>Ripe aromas of fig, blackberry and cassis are ...</td>\n",
       "      <td>Carodorum Selección Especial Reserva</td>\n",
       "      <td>96</td>\n",
       "      <td>110.0</td>\n",
       "      <td>Northern Spain</td>\n",
       "      <td>Toro</td>\n",
       "      <td>NaN</td>\n",
       "      <td>Tinta de Toro</td>\n",
       "      <td>Bodega Carmen Rodríguez</td>\n",
       "    </tr>\n",
       "    <tr>\n",
       "      <th>2</th>\n",
       "      <td>2</td>\n",
       "      <td>US</td>\n",
       "      <td>Mac Watson honors the memory of a wine once ma...</td>\n",
       "      <td>Special Selected Late Harvest</td>\n",
       "      <td>96</td>\n",
       "      <td>90.0</td>\n",
       "      <td>California</td>\n",
       "      <td>Knights Valley</td>\n",
       "      <td>Sonoma</td>\n",
       "      <td>Sauvignon Blanc</td>\n",
       "      <td>Macauley</td>\n",
       "    </tr>\n",
       "    <tr>\n",
       "      <th>3</th>\n",
       "      <td>3</td>\n",
       "      <td>US</td>\n",
       "      <td>This spent 20 months in 30% new French oak, an...</td>\n",
       "      <td>Reserve</td>\n",
       "      <td>96</td>\n",
       "      <td>65.0</td>\n",
       "      <td>Oregon</td>\n",
       "      <td>Willamette Valley</td>\n",
       "      <td>Willamette Valley</td>\n",
       "      <td>Pinot Noir</td>\n",
       "      <td>Ponzi</td>\n",
       "    </tr>\n",
       "    <tr>\n",
       "      <th>4</th>\n",
       "      <td>4</td>\n",
       "      <td>France</td>\n",
       "      <td>This is the top wine from La Bégude, named aft...</td>\n",
       "      <td>La Brûlade</td>\n",
       "      <td>95</td>\n",
       "      <td>66.0</td>\n",
       "      <td>Provence</td>\n",
       "      <td>Bandol</td>\n",
       "      <td>NaN</td>\n",
       "      <td>Provence red blend</td>\n",
       "      <td>Domaine de la Bégude</td>\n",
       "    </tr>\n",
       "    <tr>\n",
       "      <th>5</th>\n",
       "      <td>5</td>\n",
       "      <td>Spain</td>\n",
       "      <td>Deep, dense and pure from the opening bell, th...</td>\n",
       "      <td>Numanthia</td>\n",
       "      <td>95</td>\n",
       "      <td>73.0</td>\n",
       "      <td>Northern Spain</td>\n",
       "      <td>Toro</td>\n",
       "      <td>NaN</td>\n",
       "      <td>Tinta de Toro</td>\n",
       "      <td>Numanthia</td>\n",
       "    </tr>\n",
       "    <tr>\n",
       "      <th>6</th>\n",
       "      <td>6</td>\n",
       "      <td>Spain</td>\n",
       "      <td>Slightly gritty black-fruit aromas include a s...</td>\n",
       "      <td>San Román</td>\n",
       "      <td>95</td>\n",
       "      <td>65.0</td>\n",
       "      <td>Northern Spain</td>\n",
       "      <td>Toro</td>\n",
       "      <td>NaN</td>\n",
       "      <td>Tinta de Toro</td>\n",
       "      <td>Maurodos</td>\n",
       "    </tr>\n",
       "    <tr>\n",
       "      <th>7</th>\n",
       "      <td>7</td>\n",
       "      <td>Spain</td>\n",
       "      <td>Lush cedary black-fruit aromas are luxe and of...</td>\n",
       "      <td>Carodorum Único Crianza</td>\n",
       "      <td>95</td>\n",
       "      <td>110.0</td>\n",
       "      <td>Northern Spain</td>\n",
       "      <td>Toro</td>\n",
       "      <td>NaN</td>\n",
       "      <td>Tinta de Toro</td>\n",
       "      <td>Bodega Carmen Rodríguez</td>\n",
       "    </tr>\n",
       "    <tr>\n",
       "      <th>8</th>\n",
       "      <td>8</td>\n",
       "      <td>US</td>\n",
       "      <td>This re-named vineyard was formerly bottled as...</td>\n",
       "      <td>Silice</td>\n",
       "      <td>95</td>\n",
       "      <td>65.0</td>\n",
       "      <td>Oregon</td>\n",
       "      <td>Chehalem Mountains</td>\n",
       "      <td>Willamette Valley</td>\n",
       "      <td>Pinot Noir</td>\n",
       "      <td>Bergström</td>\n",
       "    </tr>\n",
       "    <tr>\n",
       "      <th>9</th>\n",
       "      <td>9</td>\n",
       "      <td>US</td>\n",
       "      <td>The producer sources from two blocks of the vi...</td>\n",
       "      <td>Gap's Crown Vineyard</td>\n",
       "      <td>95</td>\n",
       "      <td>60.0</td>\n",
       "      <td>California</td>\n",
       "      <td>Sonoma Coast</td>\n",
       "      <td>Sonoma</td>\n",
       "      <td>Pinot Noir</td>\n",
       "      <td>Blue Farm</td>\n",
       "    </tr>\n",
       "  </tbody>\n",
       "</table>\n",
       "</div>"
      ],
      "text/plain": [
       "   Unnamed: 0 country                                        description  \\\n",
       "0           0      US  This tremendous 100% varietal wine hails from ...   \n",
       "1           1   Spain  Ripe aromas of fig, blackberry and cassis are ...   \n",
       "2           2      US  Mac Watson honors the memory of a wine once ma...   \n",
       "3           3      US  This spent 20 months in 30% new French oak, an...   \n",
       "4           4  France  This is the top wine from La Bégude, named aft...   \n",
       "5           5   Spain  Deep, dense and pure from the opening bell, th...   \n",
       "6           6   Spain  Slightly gritty black-fruit aromas include a s...   \n",
       "7           7   Spain  Lush cedary black-fruit aromas are luxe and of...   \n",
       "8           8      US  This re-named vineyard was formerly bottled as...   \n",
       "9           9      US  The producer sources from two blocks of the vi...   \n",
       "\n",
       "                            designation  points  price        province  \\\n",
       "0                     Martha's Vineyard      96  235.0      California   \n",
       "1  Carodorum Selección Especial Reserva      96  110.0  Northern Spain   \n",
       "2         Special Selected Late Harvest      96   90.0      California   \n",
       "3                               Reserve      96   65.0          Oregon   \n",
       "4                            La Brûlade      95   66.0        Provence   \n",
       "5                             Numanthia      95   73.0  Northern Spain   \n",
       "6                             San Román      95   65.0  Northern Spain   \n",
       "7               Carodorum Único Crianza      95  110.0  Northern Spain   \n",
       "8                                Silice      95   65.0          Oregon   \n",
       "9                  Gap's Crown Vineyard      95   60.0      California   \n",
       "\n",
       "             region_1           region_2             variety  \\\n",
       "0         Napa Valley               Napa  Cabernet Sauvignon   \n",
       "1                Toro                NaN       Tinta de Toro   \n",
       "2      Knights Valley             Sonoma     Sauvignon Blanc   \n",
       "3   Willamette Valley  Willamette Valley          Pinot Noir   \n",
       "4              Bandol                NaN  Provence red blend   \n",
       "5                Toro                NaN       Tinta de Toro   \n",
       "6                Toro                NaN       Tinta de Toro   \n",
       "7                Toro                NaN       Tinta de Toro   \n",
       "8  Chehalem Mountains  Willamette Valley          Pinot Noir   \n",
       "9        Sonoma Coast             Sonoma          Pinot Noir   \n",
       "\n",
       "                    winery  \n",
       "0                    Heitz  \n",
       "1  Bodega Carmen Rodríguez  \n",
       "2                 Macauley  \n",
       "3                    Ponzi  \n",
       "4     Domaine de la Bégude  \n",
       "5                Numanthia  \n",
       "6                 Maurodos  \n",
       "7  Bodega Carmen Rodríguez  \n",
       "8                Bergström  \n",
       "9                Blue Farm  "
      ]
     },
     "execution_count": 4,
     "metadata": {},
     "output_type": "execute_result"
    }
   ],
   "source": [
    "data_150k.head(10)"
   ]
  },
  {
   "cell_type": "markdown",
   "id": "645becf8",
   "metadata": {},
   "source": [
    "## 2. 数据分析\n",
    "### 2.1 数据可视化和摘要\n",
    "#### 2.1.1 country属性\n",
    "标称属性，后面所有的属性都和country一样"
   ]
  },
  {
   "cell_type": "code",
   "execution_count": 5,
   "id": "35803f6e",
   "metadata": {},
   "outputs": [
    {
     "data": {
      "text/plain": [
       "US                        62397\n",
       "Italy                     23478\n",
       "France                    21098\n",
       "Spain                      8268\n",
       "Chile                      5816\n",
       "Argentina                  5631\n",
       "Portugal                   5322\n",
       "Australia                  4957\n",
       "New Zealand                3320\n",
       "Austria                    3057\n",
       "Germany                    2452\n",
       "South Africa               2258\n",
       "Greece                      884\n",
       "Israel                      630\n",
       "Hungary                     231\n",
       "Canada                      196\n",
       "Romania                     139\n",
       "Slovenia                     94\n",
       "Uruguay                      92\n",
       "Croatia                      89\n",
       "Bulgaria                     77\n",
       "Moldova                      71\n",
       "Mexico                       63\n",
       "Turkey                       52\n",
       "Georgia                      43\n",
       "Lebanon                      37\n",
       "Cyprus                       31\n",
       "Brazil                       25\n",
       "Macedonia                    16\n",
       "Serbia                       14\n",
       "Morocco                      12\n",
       "England                       9\n",
       "Luxembourg                    9\n",
       "Lithuania                     8\n",
       "India                         8\n",
       "Czech Republic                6\n",
       "NaN                           5\n",
       "Ukraine                       5\n",
       "Bosnia and Herzegovina        4\n",
       "Switzerland                   4\n",
       "South Korea                   4\n",
       "Egypt                         3\n",
       "Slovakia                      3\n",
       "China                         3\n",
       "Albania                       2\n",
       "Tunisia                       2\n",
       "Japan                         2\n",
       "Montenegro                    2\n",
       "US-France                     1\n",
       "Name: country, dtype: int64"
      ]
     },
     "execution_count": 5,
     "metadata": {},
     "output_type": "execute_result"
    }
   ],
   "source": [
    "attribute = \"country\"\n",
    "d150kvc = data_150k[attribute].value_counts(dropna = False)\n",
    "d150kvc"
   ]
  },
  {
   "cell_type": "markdown",
   "id": "57a7bada",
   "metadata": {},
   "source": [
    "可视化"
   ]
  },
  {
   "cell_type": "code",
   "execution_count": 6,
   "id": "442d81a0",
   "metadata": {},
   "outputs": [
    {
     "data": {
      "text/plain": [
       "<AxesSubplot:>"
      ]
     },
     "execution_count": 6,
     "metadata": {},
     "output_type": "execute_result"
    },
    {
     "data": {
      "image/png": "[encoded data removed]",
      "text/plain": [
       "<Figure size 720x288 with 1 Axes>"
      ]
     },
     "metadata": {
      "needs_background": "light"
     },
     "output_type": "display_data"
    }
   ],
   "source": [
    "# 仅显示前10个，数据太大画不了\n",
    "d150kvc[:10].plot(kind = \"bar\", figsize = (10,4))"
   ]
  },
  {
   "cell_type": "markdown",
   "id": "abd6944d",
   "metadata": {},
   "source": [
    "#### 2.1.2 designation属性\n",
    "同country"
   ]
  },
  {
   "cell_type": "code",
   "execution_count": 8,
   "id": "04edb887",
   "metadata": {},
   "outputs": [
    {
     "data": {
      "text/plain": [
       "NaN                         45735\n",
       "Reserve                      2752\n",
       "Reserva                      1810\n",
       "Estate                       1571\n",
       "Barrel sample                1326\n",
       "                            ...  \n",
       "Mostly                          1\n",
       "Clos des Rocs Monopole          1\n",
       "Eternity Sparkling Cuvée        1\n",
       "Gueta-Lupia                     1\n",
       "Ramona Pinot Noir               1\n",
       "Name: designation, Length: 30622, dtype: int64"
      ]
     },
     "execution_count": 8,
     "metadata": {},
     "output_type": "execute_result"
    }
   ],
   "source": [
    "attribute = \"designation\"\n",
    "d150kvc = data_150k[attribute].value_counts(dropna = False)\n",
    "d150kvc"
   ]
  },
  {
   "cell_type": "code",
   "execution_count": 9,
   "id": "3fa11383",
   "metadata": {},
   "outputs": [
    {
     "data": {
      "text/plain": [
       "<AxesSubplot:>"
      ]
     },
     "execution_count": 9,
     "metadata": {},
     "output_type": "execute_result"
    },
    {
     "data": {
      "image/png": "[encoded data removed]",
      "text/plain": [
       "<Figure size 720x288 with 1 Axes>"
      ]
     },
     "metadata": {
      "needs_background": "light"
     },
     "output_type": "display_data"
    }
   ],
   "source": [
    "# 仅显示前10个，数据太大画不了\n",
    "d150kvc[:10].plot(kind = \"bar\", figsize = (10,4))"
   ]
  },
  {
   "cell_type": "markdown",
   "id": "48572fbb",
   "metadata": {},
   "source": [
    "#### 2.1.3 province属性"
   ]
  },
  {
   "cell_type": "code",
   "execution_count": 10,
   "id": "88c464f9",
   "metadata": {},
   "outputs": [
    {
     "name": "stdout",
     "output_type": "stream",
     "text": [
      "California        44508\n",
      "Washington         9750\n",
      "Tuscany            7281\n",
      "Bordeaux           6111\n",
      "Northern Spain     4892\n",
      "                  ...  \n",
      "Pannon                1\n",
      "Beni M'Tir            1\n",
      "Stirling              1\n",
      "Nevada                1\n",
      "Rose Valley           1\n",
      "Name: province, Length: 456, dtype: int64\n"
     ]
    },
    {
     "data": {
      "text/plain": [
       "<AxesSubplot:>"
      ]
     },
     "execution_count": 10,
     "metadata": {},
     "output_type": "execute_result"
    },
    {
     "data": {
      "image/png": "[encoded data removed]",
      "text/plain": [
       "<Figure size 720x288 with 1 Axes>"
      ]
     },
     "metadata": {
      "needs_background": "light"
     },
     "output_type": "display_data"
    }
   ],
   "source": [
    "attribute = \"province\"\n",
    "d150kvc = data_150k[attribute].value_counts(dropna = False)\n",
    "print(d150kvc)\n",
    "# 仅显示前10个，数据太大画不了\n",
    "d150kvc[:10].plot(kind = \"bar\", figsize = (10,4))"
   ]
  },
  {
   "cell_type": "markdown",
   "id": "abb50e64",
   "metadata": {},
   "source": [
    "#### 2.1.4 region_1"
   ]
  },
  {
   "cell_type": "code",
   "execution_count": 11,
   "id": "96d1464b",
   "metadata": {},
   "outputs": [
    {
     "name": "stdout",
     "output_type": "stream",
     "text": [
      "NaN                                   25060\n",
      "Napa Valley                            6209\n",
      "Columbia Valley (WA)                   4975\n",
      "Mendoza                                3586\n",
      "Russian River Valley                   3571\n",
      "                                      ...  \n",
      "Vin de Pays des Coteaux de Murviel        1\n",
      "Sonoma County-Monterey County             1\n",
      "Fara                                      1\n",
      "Central Valley                            1\n",
      "Geelong                                   1\n",
      "Name: region_1, Length: 1237, dtype: int64\n"
     ]
    },
    {
     "data": {
      "text/plain": [
       "<AxesSubplot:>"
      ]
     },
     "execution_count": 11,
     "metadata": {},
     "output_type": "execute_result"
    },
    {
     "data": {
      "image/png": "[encoded data removed]",
      "text/plain": [
       "<Figure size 720x288 with 1 Axes>"
      ]
     },
     "metadata": {
      "needs_background": "light"
     },
     "output_type": "display_data"
    }
   ],
   "source": [
    "attribute = \"region_1\"\n",
    "d150kvc = data_150k[attribute].value_counts(dropna = False)\n",
    "print(d150kvc)\n",
    "# 仅显示前10个，数据太大画不了\n",
    "d150kvc[:10].plot(kind = \"bar\", figsize = (10,4))"
   ]
  },
  {
   "cell_type": "markdown",
   "id": "9c8d0820",
   "metadata": {},
   "source": [
    "#### 2.1.4 region_2"
   ]
  },
  {
   "cell_type": "code",
   "execution_count": 12,
   "id": "0283ef60",
   "metadata": {},
   "outputs": [
    {
     "name": "stdout",
     "output_type": "stream",
     "text": [
      "NaN                        89977\n",
      "Central Coast              13057\n",
      "Sonoma                     11258\n",
      "Columbia Valley             9157\n",
      "Napa                        8801\n",
      "California Other            3516\n",
      "Willamette Valley           3181\n",
      "Mendocino/Lake Counties     2389\n",
      "Sierra Foothills            1660\n",
      "Napa-Sonoma                 1645\n",
      "Finger Lakes                1510\n",
      "Central Valley              1115\n",
      "Long Island                  771\n",
      "Southern Oregon              662\n",
      "Oregon Other                 661\n",
      "North Coast                  632\n",
      "Washington Other             593\n",
      "South Coast                  198\n",
      "New York Other               147\n",
      "Name: region_2, dtype: int64\n"
     ]
    },
    {
     "data": {
      "text/plain": [
       "<AxesSubplot:>"
      ]
     },
     "execution_count": 12,
     "metadata": {},
     "output_type": "execute_result"
    },
    {
     "data": {
      "image/png": "[encoded data removed]",
      "text/plain": [
       "<Figure size 720x288 with 1 Axes>"
      ]
     },
     "metadata": {
      "needs_background": "light"
     },
     "output_type": "display_data"
    }
   ],
   "source": [
    "attribute = \"region_2\"\n",
    "d150kvc = data_150k[attribute].value_counts(dropna = False)\n",
    "print(d150kvc)\n",
    "# 仅显示前10个，数据太大画不了\n",
    "d150kvc[:10].plot(kind = \"bar\", figsize = (10,4))"
   ]
  },
  {
   "cell_type": "markdown",
   "id": "89329d52",
   "metadata": {},
   "source": [
    "#### 2.1.5 variety"
   ]
  },
  {
   "cell_type": "code",
   "execution_count": 13,
   "id": "e73d5c18",
   "metadata": {},
   "outputs": [
    {
     "name": "stdout",
     "output_type": "stream",
     "text": [
      "Chardonnay                  14482\n",
      "Pinot Noir                  14291\n",
      "Cabernet Sauvignon          12800\n",
      "Red Blend                   10062\n",
      "Bordeaux-style Red Blend     7347\n",
      "                            ...  \n",
      "Pinela                          1\n",
      "Silvaner-Traminer               1\n",
      "Sideritis                       1\n",
      "Merlot-Petite Verdot            1\n",
      "Morava                          1\n",
      "Name: variety, Length: 632, dtype: int64\n"
     ]
    },
    {
     "data": {
      "text/plain": [
       "<AxesSubplot:>"
      ]
     },
     "execution_count": 13,
     "metadata": {},
     "output_type": "execute_result"
    },
    {
     "data": {
      "image/png": "[encoded data removed]",
      "text/plain": [
       "<Figure size 720x288 with 1 Axes>"
      ]
     },
     "metadata": {
      "needs_background": "light"
     },
     "output_type": "display_data"
    }
   ],
   "source": [
    "attribute = \"variety\"\n",
    "d150kvc = data_150k[attribute].value_counts(dropna = False)\n",
    "print(d150kvc)\n",
    "# 仅显示前10个，数据太大画不了\n",
    "d150kvc[:10].plot(kind = \"bar\", figsize = (10,4))"
   ]
  },
  {
   "cell_type": "markdown",
   "id": "59ed8252",
   "metadata": {},
   "source": [
    "#### 2.1.6 winery"
   ]
  },
  {
   "cell_type": "code",
   "execution_count": 14,
   "id": "10650b4c",
   "metadata": {},
   "outputs": [
    {
     "name": "stdout",
     "output_type": "stream",
     "text": [
      "Williams Selyem          374\n",
      "Testarossa               274\n",
      "DFJ Vinhos               258\n",
      "Chateau Ste. Michelle    225\n",
      "Columbia Crest           217\n",
      "                        ... \n",
      "Kilroy Was Here!           1\n",
      "Bjorn                      1\n",
      "La Greña                   1\n",
      "Donna Anita                1\n",
      "Au Contraire               1\n",
      "Name: winery, Length: 14810, dtype: int64\n"
     ]
    },
    {
     "data": {
      "text/plain": [
       "<AxesSubplot:>"
      ]
     },
     "execution_count": 14,
     "metadata": {},
     "output_type": "execute_result"
    },
    {
     "data": {
      "image/png": "[encoded data removed]",
      "text/plain": [
       "<Figure size 720x288 with 1 Axes>"
      ]
     },
     "metadata": {
      "needs_background": "light"
     },
     "output_type": "display_data"
    }
   ],
   "source": [
    "attribute = \"winery\"\n",
    "d150kvc = data_150k[attribute].value_counts(dropna = False)\n",
    "print(d150kvc)\n",
    "# 仅显示前10个，数据太大画不了\n",
    "d150kvc[:10].plot(kind = \"bar\", figsize = (10,4))"
   ]
  },
  {
   "cell_type": "markdown",
   "id": "a2d6345a",
   "metadata": {},
   "source": [
    "#### 2.1.7 points\n",
    "由于points为数值属性，所以给出5组数据概括，并绘制盒图"
   ]
  },
  {
   "cell_type": "code",
   "execution_count": 19,
   "id": "4fa6355a",
   "metadata": {},
   "outputs": [
    {
     "name": "stdout",
     "output_type": "stream",
     "text": [
      "Q:0 80.00\n",
      "Q:1 86.00\n",
      "Q:2 88.00\n",
      "Q:3 90.00\n",
      "Q:4 100.00\n"
     ]
    },
    {
     "data": {
      "image/png": "[encoded data removed]",
      "text/plain": [
       "<Figure size 432x288 with 1 Axes>"
      ]
     },
     "metadata": {
      "needs_background": "light"
     },
     "output_type": "display_data"
    }
   ],
   "source": [
    "attribute = \"points\"\n",
    "for i in range(0,5):\n",
    "    print(\"Q:%d %.2f\"%(i, data_150k[attribute].quantile(i*0.25)))\n",
    "p = data_150k.boxplot([attribute],return_type='dict')"
   ]
  },
  {
   "cell_type": "markdown",
   "id": "bfe2db07",
   "metadata": {},
   "source": [
    "检查离散群点"
   ]
  },
  {
   "cell_type": "code",
   "execution_count": 20,
   "id": "894a29b6",
   "metadata": {},
   "outputs": [
    {
     "name": "stdout",
     "output_type": "stream",
     "text": [
      "[100 99 98 98 98 97 97 97 97 97 97 97 97 97 97 97 97 97 97 97 97 97 97 98\n",
      " 97 98 97 97 97 97 97 97 98 97 97 97 97 97 97 98 97 97 97 97 97 97 97 97\n",
      " 100 100 99 99 98 98 98 98 98 98 97 97 97 97 97 97 98 98 98 98 97 97 97 97\n",
      " 97 97 97 98 97 97 97 97 100 99 99 98 98 98 98 98 98 97 97 97 97 100 99 98\n",
      " 97 97 97 97 97 97 97 97 97 99 97 98 97 97 97 97 97 97 100 98 98 97 97 97\n",
      " 97 97 97 97 97 97 97 97 97 97 97 97 97 97 97 99 97 97 99 99 99 98 98 98\n",
      " 98 98 97 97 97 97 97 97 99 97 97 97 97 97 97 97 97 97 100 99 99 98 98 98\n",
      " 98 98 98 97 97 97 97 97 99 99 98 97 97 97 97 97 98 98 97 97 97 97 97 100\n",
      " 99 98 97 97 97 97 97 97 98 97 97 97 97 97 97 97 99 99 99 98 98 98 98 97\n",
      " 97 97 97 97 97 97 97 97 97 97 97 97 98 97 97 97 98 98 97 98 99 98 98 97\n",
      " 97 97 97 97 99 98 97 97 97 97 98 97 97 97 97 97 97 97 97 97 97 97 100 98\n",
      " 98 97 97 97 97 97 97 97 97 97 97 97 97 99 99 99 98 98 97 97 97 97 97 97\n",
      " 100 99 98 97 97 97 97 97 97 100 100 99 99 98 98 98 98 98 98 97 97 97 97\n",
      " 97 98 98 97 97 97 97 97 100 98 97 97 97 97 99 99 98 97 97 97 98 97 100 98\n",
      " 97 97 97 97 97 97 97 97 97 97 98 97 97 97 97 98 97 97 97 100 98 98 97 97\n",
      " 97 97 97 98 97 97 97 99 98 97 97 98 98 98 98 97 97 98 98 97 97 97 97 98\n",
      " 97 97 97 97 99 99 99 98 98 98 98 97 97 97 97 97 97 97 97 98 97 97 97 97\n",
      " 97 97 98 97 97 97 97 97 97 98 100 97 97 97 99 98 97 97 100 99 98 98 97 97\n",
      " 97 97 97 97 97 99 98 98 97 97 97 97 97 100 100 99 99 98 98 98 98 98 98 97\n",
      " 97 97 97 97 97 100 99 99 98 98 98 98 98 98 97 97 97 97 98 97 97 97 99 98\n",
      " 98 97 97 97 97 97 100 98 98 97 97 97 97 98 97 99 97 97 97 97 97 97 97 97\n",
      " 97 99 98 97 97 98 97 97 97 97 99 99 99 98 98 98 98 97 97 97 97 97 97 97\n",
      " 97 97 97 97 97 97 99 98 97 97 97 100 98 97 97 97 97 100 97 98 98 97 97 97\n",
      " 97 99 98 98 98 97 100 99 98 98 97 97 97 97 97 97 97 97 97]\n",
      "MIN: 97\n"
     ]
    }
   ],
   "source": [
    "print(p['fliers'][0].get_ydata())\n",
    "print(\"MIN: \",end=\"\")\n",
    "print(min(p['fliers'][0].get_ydata()))"
   ]
  },
  {
   "cell_type": "markdown",
   "id": "9a5c2e6a",
   "metadata": {},
   "source": [
    "#### 2.1.8 price\n",
    "同points"
   ]
  },
  {
   "cell_type": "code",
   "execution_count": 21,
   "id": "4b354e18",
   "metadata": {},
   "outputs": [
    {
     "name": "stdout",
     "output_type": "stream",
     "text": [
      "Q:0 4.00\n",
      "Q:1 16.00\n",
      "Q:2 24.00\n",
      "Q:3 40.00\n",
      "Q:4 2300.00\n"
     ]
    },
    {
     "data": {
      "image/png": "[encoded data removed]",
      "text/plain": [
       "<Figure size 432x288 with 1 Axes>"
      ]
     },
     "metadata": {
      "needs_background": "light"
     },
     "output_type": "display_data"
    }
   ],
   "source": [
    "attribute = \"price\"\n",
    "for i in range(0,5):\n",
    "    print(\"Q:%d %.2f\"%(i, data_150k[attribute].quantile(i*0.25)))\n",
    "p = data_150k.boxplot([attribute],return_type='dict')"
   ]
  },
  {
   "cell_type": "code",
   "execution_count": 22,
   "id": "fb977a6a",
   "metadata": {},
   "outputs": [
    {
     "name": "stdout",
     "output_type": "stream",
     "text": [
      "[235.0 110.0 90.0 ... 83.0 100.0 87.0]\n",
      "MIN: 77.0\n"
     ]
    }
   ],
   "source": [
    "print(p['fliers'][0].get_ydata())\n",
    "print(\"MIN: \",end=\"\")\n",
    "print(min(p['fliers'][0].get_ydata()))"
   ]
  },
  {
   "cell_type": "markdown",
   "id": "b879b985",
   "metadata": {},
   "source": [
    "综上，price中大于等于77的项被识别为离群点。"
   ]
  },
  {
   "cell_type": "markdown",
   "id": "0cb03d2d",
   "metadata": {},
   "source": [
    "### 2.2 处理数据缺失\n",
    "统计所有数据的缺失值"
   ]
  },
  {
   "cell_type": "code",
   "execution_count": 23,
   "id": "c40d881d",
   "metadata": {},
   "outputs": [
    {
     "name": "stdout",
     "output_type": "stream",
     "text": [
      "Unnamed: 0         0\n",
      "country            5\n",
      "description        0\n",
      "designation    45735\n",
      "points             0\n",
      "price          13695\n",
      "province           5\n",
      "region_1       25060\n",
      "region_2       89977\n",
      "variety            0\n",
      "winery             0\n",
      "dtype: int64\n"
     ]
    }
   ],
   "source": [
    "print(data_150k.isnull().sum(axis=0))"
   ]
  },
  {
   "cell_type": "markdown",
   "id": "67ed26a2",
   "metadata": {},
   "source": [
    "#### 2.2.1 处理country属性缺失\n",
    "原因：可能为人为因素，我们通过属性的相关关系来填补缺失值，使用designation的属性来判断所属国家\n",
    "\n",
    "根据空值的分布，定义一个从designation到country的转换字典"
   ]
  },
  {
   "cell_type": "code",
   "execution_count": 24,
   "id": "3a90efa4",
   "metadata": {},
   "outputs": [],
   "source": [
    "attribute = \"country\"\n",
    "designation2country = {\n",
    "    \"Shah\":\"US\",\n",
    "    \"Askitikos\":\"Greece\",\n",
    "    \"Piedra Feliz\":\"Chile\",\n",
    "}"
   ]
  },
  {
   "cell_type": "code",
   "execution_count": 25,
   "id": "329cf1cb",
   "metadata": {},
   "outputs": [
    {
     "data": {
      "text/plain": [
       "US                        62398\n",
       "Italy                     23478\n",
       "France                    21098\n",
       "Spain                      8268\n",
       "Chile                      5819\n",
       "Argentina                  5631\n",
       "Portugal                   5322\n",
       "Australia                  4957\n",
       "New Zealand                3320\n",
       "Austria                    3057\n",
       "Germany                    2452\n",
       "South Africa               2258\n",
       "Greece                      885\n",
       "Israel                      630\n",
       "Hungary                     231\n",
       "Canada                      196\n",
       "Romania                     139\n",
       "Slovenia                     94\n",
       "Uruguay                      92\n",
       "Croatia                      89\n",
       "Bulgaria                     77\n",
       "Moldova                      71\n",
       "Mexico                       63\n",
       "Turkey                       52\n",
       "Georgia                      43\n",
       "Lebanon                      37\n",
       "Cyprus                       31\n",
       "Brazil                       25\n",
       "Macedonia                    16\n",
       "Serbia                       14\n",
       "Morocco                      12\n",
       "England                       9\n",
       "Luxembourg                    9\n",
       "India                         8\n",
       "Lithuania                     8\n",
       "Czech Republic                6\n",
       "Ukraine                       5\n",
       "South Korea                   4\n",
       "Bosnia and Herzegovina        4\n",
       "Switzerland                   4\n",
       "Egypt                         3\n",
       "Slovakia                      3\n",
       "China                         3\n",
       "Albania                       2\n",
       "Tunisia                       2\n",
       "Japan                         2\n",
       "Montenegro                    2\n",
       "US-France                     1\n",
       "Name: country, dtype: int64"
      ]
     },
     "execution_count": 25,
     "metadata": {},
     "output_type": "execute_result"
    }
   ],
   "source": [
    "data_150k_new = data_150k.iloc[:,:]\n",
    "for i in range(0,len(data_150k_new)):\n",
    "    tmp = data_150k_new.iloc[i,1]\n",
    "    if pd.isnull(tmp):\n",
    "        designation = data_150k_new.iloc[i,3]\n",
    "        data_150k_new.iloc[i,1] = designation2country[designation]\n",
    "data_150k_new[attribute].value_counts(dropna = False)"
   ]
  },
  {
   "cell_type": "markdown",
   "id": "4ab8e11f",
   "metadata": {},
   "source": [
    "可视化对比"
   ]
  },
  {
   "cell_type": "code",
   "execution_count": 26,
   "id": "32adcea9",
   "metadata": {},
   "outputs": [
    {
     "data": {
      "text/plain": [
       "<AxesSubplot:>"
      ]
     },
     "execution_count": 26,
     "metadata": {},
     "output_type": "execute_result"
    },
    {
     "data": {
      "image/png": "[encoded data removed]",
      "text/plain": [
       "<Figure size 720x576 with 2 Axes>"
      ]
     },
     "metadata": {
      "needs_background": "light"
     },
     "output_type": "display_data"
    }
   ],
   "source": [
    "# 考虑到数据太大，我们这里只取前20列\n",
    "attribute = \"country\"\n",
    "matplotlib.pyplot.subplot(2,1,1) \n",
    "data_150k[attribute].value_counts(dropna = False)[:20].plot(kind='bar',figsize=(10,8))\n",
    "matplotlib.pyplot.subplot(2,1,2) \n",
    "data_150k_new[attribute].value_counts(dropna = False)[:20].plot(kind='bar',figsize=(10,8))"
   ]
  },
  {
   "cell_type": "markdown",
   "id": "fe42906e",
   "metadata": {},
   "source": [
    "#### 2.2.2 designation\n",
    "原因：同country，可能是人为因素\n",
    "\n",
    "处理方法：此处我们选择将缺失部分剔除"
   ]
  },
  {
   "cell_type": "code",
   "execution_count": 27,
   "id": "ec970975",
   "metadata": {},
   "outputs": [
    {
     "data": {
      "text/html": [
       "<div>\n",
       "<style scoped>\n",
       "    .dataframe tbody tr th:only-of-type {\n",
       "        vertical-align: middle;\n",
       "    }\n",
       "\n",
       "    .dataframe tbody tr th {\n",
       "        vertical-align: top;\n",
       "    }\n",
       "\n",
       "    .dataframe thead th {\n",
       "        text-align: right;\n",
       "    }\n",
       "</style>\n",
       "<table border=\"1\" class=\"dataframe\">\n",
       "  <thead>\n",
       "    <tr style=\"text-align: right;\">\n",
       "      <th></th>\n",
       "      <th>Unnamed: 0</th>\n",
       "      <th>country</th>\n",
       "      <th>description</th>\n",
       "      <th>designation</th>\n",
       "      <th>points</th>\n",
       "      <th>price</th>\n",
       "      <th>province</th>\n",
       "      <th>region_1</th>\n",
       "      <th>region_2</th>\n",
       "      <th>variety</th>\n",
       "      <th>winery</th>\n",
       "    </tr>\n",
       "  </thead>\n",
       "  <tbody>\n",
       "    <tr>\n",
       "      <th>0</th>\n",
       "      <td>0</td>\n",
       "      <td>US</td>\n",
       "      <td>This tremendous 100% varietal wine hails from ...</td>\n",
       "      <td>Martha's Vineyard</td>\n",
       "      <td>96</td>\n",
       "      <td>235.0</td>\n",
       "      <td>California</td>\n",
       "      <td>Napa Valley</td>\n",
       "      <td>Napa</td>\n",
       "      <td>Cabernet Sauvignon</td>\n",
       "      <td>Heitz</td>\n",
       "    </tr>\n",
       "    <tr>\n",
       "      <th>1</th>\n",
       "      <td>1</td>\n",
       "      <td>Spain</td>\n",
       "      <td>Ripe aromas of fig, blackberry and cassis are ...</td>\n",
       "      <td>Carodorum Selección Especial Reserva</td>\n",
       "      <td>96</td>\n",
       "      <td>110.0</td>\n",
       "      <td>Northern Spain</td>\n",
       "      <td>Toro</td>\n",
       "      <td>NaN</td>\n",
       "      <td>Tinta de Toro</td>\n",
       "      <td>Bodega Carmen Rodríguez</td>\n",
       "    </tr>\n",
       "    <tr>\n",
       "      <th>2</th>\n",
       "      <td>2</td>\n",
       "      <td>US</td>\n",
       "      <td>Mac Watson honors the memory of a wine once ma...</td>\n",
       "      <td>Special Selected Late Harvest</td>\n",
       "      <td>96</td>\n",
       "      <td>90.0</td>\n",
       "      <td>California</td>\n",
       "      <td>Knights Valley</td>\n",
       "      <td>Sonoma</td>\n",
       "      <td>Sauvignon Blanc</td>\n",
       "      <td>Macauley</td>\n",
       "    </tr>\n",
       "    <tr>\n",
       "      <th>3</th>\n",
       "      <td>3</td>\n",
       "      <td>US</td>\n",
       "      <td>This spent 20 months in 30% new French oak, an...</td>\n",
       "      <td>Reserve</td>\n",
       "      <td>96</td>\n",
       "      <td>65.0</td>\n",
       "      <td>Oregon</td>\n",
       "      <td>Willamette Valley</td>\n",
       "      <td>Willamette Valley</td>\n",
       "      <td>Pinot Noir</td>\n",
       "      <td>Ponzi</td>\n",
       "    </tr>\n",
       "    <tr>\n",
       "      <th>4</th>\n",
       "      <td>4</td>\n",
       "      <td>France</td>\n",
       "      <td>This is the top wine from La Bégude, named aft...</td>\n",
       "      <td>La Brûlade</td>\n",
       "      <td>95</td>\n",
       "      <td>66.0</td>\n",
       "      <td>Provence</td>\n",
       "      <td>Bandol</td>\n",
       "      <td>NaN</td>\n",
       "      <td>Provence red blend</td>\n",
       "      <td>Domaine de la Bégude</td>\n",
       "    </tr>\n",
       "    <tr>\n",
       "      <th>...</th>\n",
       "      <td>...</td>\n",
       "      <td>...</td>\n",
       "      <td>...</td>\n",
       "      <td>...</td>\n",
       "      <td>...</td>\n",
       "      <td>...</td>\n",
       "      <td>...</td>\n",
       "      <td>...</td>\n",
       "      <td>...</td>\n",
       "      <td>...</td>\n",
       "      <td>...</td>\n",
       "    </tr>\n",
       "    <tr>\n",
       "      <th>150923</th>\n",
       "      <td>150923</td>\n",
       "      <td>France</td>\n",
       "      <td>Rich and toasty, with tiny bubbles. The bouque...</td>\n",
       "      <td>Demi-Sec</td>\n",
       "      <td>91</td>\n",
       "      <td>30.0</td>\n",
       "      <td>Champagne</td>\n",
       "      <td>Champagne</td>\n",
       "      <td>NaN</td>\n",
       "      <td>Champagne Blend</td>\n",
       "      <td>Jacquart</td>\n",
       "    </tr>\n",
       "    <tr>\n",
       "      <th>150924</th>\n",
       "      <td>150924</td>\n",
       "      <td>France</td>\n",
       "      <td>Really fine for a low-acid vintage, there's an...</td>\n",
       "      <td>Diamant Bleu</td>\n",
       "      <td>91</td>\n",
       "      <td>70.0</td>\n",
       "      <td>Champagne</td>\n",
       "      <td>Champagne</td>\n",
       "      <td>NaN</td>\n",
       "      <td>Champagne Blend</td>\n",
       "      <td>Heidsieck &amp; Co Monopole</td>\n",
       "    </tr>\n",
       "    <tr>\n",
       "      <th>150926</th>\n",
       "      <td>150926</td>\n",
       "      <td>France</td>\n",
       "      <td>Offers an intriguing nose with ginger, lime an...</td>\n",
       "      <td>Cuvée Prestige</td>\n",
       "      <td>91</td>\n",
       "      <td>27.0</td>\n",
       "      <td>Champagne</td>\n",
       "      <td>Champagne</td>\n",
       "      <td>NaN</td>\n",
       "      <td>Champagne Blend</td>\n",
       "      <td>H.Germain</td>\n",
       "    </tr>\n",
       "    <tr>\n",
       "      <th>150927</th>\n",
       "      <td>150927</td>\n",
       "      <td>Italy</td>\n",
       "      <td>This classic example comes from a cru vineyard...</td>\n",
       "      <td>Terre di Dora</td>\n",
       "      <td>91</td>\n",
       "      <td>20.0</td>\n",
       "      <td>Southern Italy</td>\n",
       "      <td>Fiano di Avellino</td>\n",
       "      <td>NaN</td>\n",
       "      <td>White Blend</td>\n",
       "      <td>Terredora</td>\n",
       "    </tr>\n",
       "    <tr>\n",
       "      <th>150928</th>\n",
       "      <td>150928</td>\n",
       "      <td>France</td>\n",
       "      <td>A perfect salmon shade, with scents of peaches...</td>\n",
       "      <td>Grand Brut Rosé</td>\n",
       "      <td>90</td>\n",
       "      <td>52.0</td>\n",
       "      <td>Champagne</td>\n",
       "      <td>Champagne</td>\n",
       "      <td>NaN</td>\n",
       "      <td>Champagne Blend</td>\n",
       "      <td>Gosset</td>\n",
       "    </tr>\n",
       "  </tbody>\n",
       "</table>\n",
       "<p>105195 rows × 11 columns</p>\n",
       "</div>"
      ],
      "text/plain": [
       "        Unnamed: 0 country                                        description  \\\n",
       "0                0      US  This tremendous 100% varietal wine hails from ...   \n",
       "1                1   Spain  Ripe aromas of fig, blackberry and cassis are ...   \n",
       "2                2      US  Mac Watson honors the memory of a wine once ma...   \n",
       "3                3      US  This spent 20 months in 30% new French oak, an...   \n",
       "4                4  France  This is the top wine from La Bégude, named aft...   \n",
       "...            ...     ...                                                ...   \n",
       "150923      150923  France  Rich and toasty, with tiny bubbles. The bouque...   \n",
       "150924      150924  France  Really fine for a low-acid vintage, there's an...   \n",
       "150926      150926  France  Offers an intriguing nose with ginger, lime an...   \n",
       "150927      150927   Italy  This classic example comes from a cru vineyard...   \n",
       "150928      150928  France  A perfect salmon shade, with scents of peaches...   \n",
       "\n",
       "                                 designation  points  price        province  \\\n",
       "0                          Martha's Vineyard      96  235.0      California   \n",
       "1       Carodorum Selección Especial Reserva      96  110.0  Northern Spain   \n",
       "2              Special Selected Late Harvest      96   90.0      California   \n",
       "3                                    Reserve      96   65.0          Oregon   \n",
       "4                                 La Brûlade      95   66.0        Provence   \n",
       "...                                      ...     ...    ...             ...   \n",
       "150923                              Demi-Sec      91   30.0       Champagne   \n",
       "150924                          Diamant Bleu      91   70.0       Champagne   \n",
       "150926                        Cuvée Prestige      91   27.0       Champagne   \n",
       "150927                         Terre di Dora      91   20.0  Southern Italy   \n",
       "150928                       Grand Brut Rosé      90   52.0       Champagne   \n",
       "\n",
       "                 region_1           region_2             variety  \\\n",
       "0             Napa Valley               Napa  Cabernet Sauvignon   \n",
       "1                    Toro                NaN       Tinta de Toro   \n",
       "2          Knights Valley             Sonoma     Sauvignon Blanc   \n",
       "3       Willamette Valley  Willamette Valley          Pinot Noir   \n",
       "4                  Bandol                NaN  Provence red blend   \n",
       "...                   ...                ...                 ...   \n",
       "150923          Champagne                NaN     Champagne Blend   \n",
       "150924          Champagne                NaN     Champagne Blend   \n",
       "150926          Champagne                NaN     Champagne Blend   \n",
       "150927  Fiano di Avellino                NaN         White Blend   \n",
       "150928          Champagne                NaN     Champagne Blend   \n",
       "\n",
       "                         winery  \n",
       "0                         Heitz  \n",
       "1       Bodega Carmen Rodríguez  \n",
       "2                      Macauley  \n",
       "3                         Ponzi  \n",
       "4          Domaine de la Bégude  \n",
       "...                         ...  \n",
       "150923                 Jacquart  \n",
       "150924  Heidsieck & Co Monopole  \n",
       "150926                H.Germain  \n",
       "150927                Terredora  \n",
       "150928                   Gosset  \n",
       "\n",
       "[105195 rows x 11 columns]"
      ]
     },
     "execution_count": 27,
     "metadata": {},
     "output_type": "execute_result"
    }
   ],
   "source": [
    "attribute = \"designation\"\n",
    "data_150k.dropna(subset=[attribute])"
   ]
  },
  {
   "cell_type": "code",
   "execution_count": 31,
   "id": "fcbf90b2",
   "metadata": {},
   "outputs": [
    {
     "data": {
      "text/plain": [
       "<AxesSubplot:>"
      ]
     },
     "execution_count": 31,
     "metadata": {},
     "output_type": "execute_result"
    },
    {
     "data": {
      "image/png": "[encoded data removed]",
      "text/plain": [
       "<Figure size 720x576 with 2 Axes>"
      ]
     },
     "metadata": {
      "needs_background": "light"
     },
     "output_type": "display_data"
    }
   ],
   "source": [
    "matplotlib.pyplot.subplot(2,1,1) \n",
    "data_150k[attribute].value_counts(dropna = False)[:20].plot(kind='bar',figsize=(10,8))\n",
    "matplotlib.pyplot.subplot(2,1,2)\n",
    "d150 = data_150k.dropna(subset=[attribute])\n",
    "d150[attribute].value_counts(dropna = False)[:20].plot(kind = \"bar\", figsize = (10,8))"
   ]
  },
  {
   "cell_type": "markdown",
   "id": "801cccc2",
   "metadata": {},
   "source": [
    "#### 2.2.3 处理price\n",
    "原因：葡萄酒价格没法获取\n",
    "\n",
    "处理：用最高频率高来填补缺失值"
   ]
  },
  {
   "cell_type": "code",
   "execution_count": 32,
   "id": "e8d91660",
   "metadata": {},
   "outputs": [
    {
     "data": {
      "text/plain": [
       "0         235.0\n",
       "1         110.0\n",
       "2          90.0\n",
       "3          65.0\n",
       "4          66.0\n",
       "          ...  \n",
       "150925     20.0\n",
       "150926     27.0\n",
       "150927     20.0\n",
       "150928     52.0\n",
       "150929     15.0\n",
       "Name: price, Length: 150930, dtype: float64"
      ]
     },
     "execution_count": 32,
     "metadata": {},
     "output_type": "execute_result"
    }
   ],
   "source": [
    "attribute = \"price\"\n",
    "mode = data_150k[attribute].mode()\n",
    "d150f = data_150k[attribute].fillna(int(mode))\n",
    "d150f"
   ]
  },
  {
   "cell_type": "code",
   "execution_count": 33,
   "id": "31055f3e",
   "metadata": {},
   "outputs": [
    {
     "data": {
      "text/plain": [
       "<AxesSubplot:>"
      ]
     },
     "execution_count": 33,
     "metadata": {},
     "output_type": "execute_result"
    },
    {
     "data": {
      "image/png": "[encoded data removed]",
      "text/plain": [
       "<Figure size 1440x360 with 1 Axes>"
      ]
     },
     "metadata": {
      "needs_background": "light"
     },
     "output_type": "display_data"
    }
   ],
   "source": [
    "data_150k.boxplot([attribute],vert=False,figsize=(20,5))"
   ]
  },
  {
   "cell_type": "code",
   "execution_count": 36,
   "id": "dfaa51be",
   "metadata": {},
   "outputs": [
    {
     "data": {
      "text/plain": [
       "{'whiskers': [<matplotlib.lines.Line2D at 0x2d4227f8160>,\n",
       "  <matplotlib.lines.Line2D at 0x2d4227f8ac0>],\n",
       " 'caps': [<matplotlib.lines.Line2D at 0x2d4227f88e0>,\n",
       "  <matplotlib.lines.Line2D at 0x2d425bb5f70>],\n",
       " 'boxes': [<matplotlib.lines.Line2D at 0x2d4227c8370>],\n",
       " 'medians': [<matplotlib.lines.Line2D at 0x2d425bb5670>],\n",
       " 'fliers': [<matplotlib.lines.Line2D at 0x2d425bbc550>],\n",
       " 'means': []}"
      ]
     },
     "execution_count": 36,
     "metadata": {},
     "output_type": "execute_result"
    },
    {
     "data": {
      "image/png": "[encoded data removed]",
      "text/plain": [
       "<Figure size 432x288 with 1 Axes>"
      ]
     },
     "metadata": {
      "needs_background": "light"
     },
     "output_type": "display_data"
    }
   ],
   "source": [
    "matplotlib.pyplot.boxplot(d150f,vert=False)"
   ]
  },
  {
   "cell_type": "markdown",
   "id": "610ee4d4",
   "metadata": {},
   "source": [
    "#### 2.2.4 处理region_1\n",
    "原因：同price，region_1无法获取\n",
    "\n",
    "处理：用最高频率值来填补缺失值"
   ]
  },
  {
   "cell_type": "code",
   "execution_count": 38,
   "id": "9594075d",
   "metadata": {},
   "outputs": [
    {
     "data": {
      "text/plain": [
       "0               Napa Valley\n",
       "1                      Toro\n",
       "2            Knights Valley\n",
       "3         Willamette Valley\n",
       "4                    Bandol\n",
       "                ...        \n",
       "150925    Fiano di Avellino\n",
       "150926            Champagne\n",
       "150927    Fiano di Avellino\n",
       "150928            Champagne\n",
       "150929           Alto Adige\n",
       "Name: region_1, Length: 150930, dtype: object"
      ]
     },
     "execution_count": 38,
     "metadata": {},
     "output_type": "execute_result"
    }
   ],
   "source": [
    "attribute = \"region_1\"\n",
    "mode = data_150k[attribute].mode()\n",
    "d150f = data_150k[attribute].fillna(str(mode))\n",
    "d150f"
   ]
  },
  {
   "cell_type": "code",
   "execution_count": 39,
   "id": "e3fccce3",
   "metadata": {},
   "outputs": [
    {
     "data": {
      "text/plain": [
       "<AxesSubplot:>"
      ]
     },
     "execution_count": 39,
     "metadata": {},
     "output_type": "execute_result"
    },
    {
     "data": {
      "image/png": "[encoded data removed]",
      "text/plain": [
       "<Figure size 720x576 with 2 Axes>"
      ]
     },
     "metadata": {
      "needs_background": "light"
     },
     "output_type": "display_data"
    }
   ],
   "source": [
    "matplotlib.pyplot.subplot(2,1,1) \n",
    "data_150k[attribute].value_counts(dropna = False)[:20].plot(kind='bar',figsize=(10,8))\n",
    "matplotlib.pyplot.subplot(2,1,2) \n",
    "d150f.value_counts(dropna = False)[:20].plot(kind='bar',figsize=(10,8))"
   ]
  },
  {
   "cell_type": "markdown",
   "id": "9f6dfdcd",
   "metadata": {},
   "source": [
    "#### 2.4.5 处理region_2\n",
    "原因：这部分根本就不存在region_2数据\n",
    "\n",
    "处理：将这部分剔除"
   ]
  },
  {
   "cell_type": "code",
   "execution_count": 41,
   "id": "2f7571e4",
   "metadata": {},
   "outputs": [
    {
     "data": {
      "text/plain": [
       "Central Coast              13057\n",
       "Sonoma                     11258\n",
       "Columbia Valley             9157\n",
       "Napa                        8801\n",
       "California Other            3516\n",
       "Willamette Valley           3181\n",
       "Mendocino/Lake Counties     2389\n",
       "Sierra Foothills            1660\n",
       "Napa-Sonoma                 1645\n",
       "Finger Lakes                1510\n",
       "Central Valley              1115\n",
       "Long Island                  771\n",
       "Southern Oregon              662\n",
       "Oregon Other                 661\n",
       "North Coast                  632\n",
       "Washington Other             593\n",
       "South Coast                  198\n",
       "New York Other               147\n",
       "Name: region_2, dtype: int64"
      ]
     },
     "execution_count": 41,
     "metadata": {},
     "output_type": "execute_result"
    }
   ],
   "source": [
    "attribute = \"region_2\"\n",
    "new_region_2 = data_150k.dropna(subset=[attribute])\n",
    "new_region_2[attribute].value_counts(dropna = False)"
   ]
  },
  {
   "cell_type": "code",
   "execution_count": 43,
   "id": "786b9924",
   "metadata": {},
   "outputs": [
    {
     "data": {
      "text/plain": [
       "<AxesSubplot:>"
      ]
     },
     "execution_count": 43,
     "metadata": {},
     "output_type": "execute_result"
    },
    {
     "data": {
      "image/png": "[encoded data removed]",
      "text/plain": [
       "<Figure size 720x576 with 2 Axes>"
      ]
     },
     "metadata": {
      "needs_background": "light"
     },
     "output_type": "display_data"
    }
   ],
   "source": [
    "matplotlib.pyplot.subplot(2,1,1) \n",
    "data_150k[attribute].value_counts(dropna = False)[:20].plot(kind='bar',figsize=(10,8))\n",
    "matplotlib.pyplot.subplot(2,1,2) \n",
    "new_region_2[attribute].value_counts(dropna = False)[:20].plot(kind='bar',figsize=(10,8))"
   ]
  },
  {
   "cell_type": "code",
   "execution_count": null,
   "id": "77215596",
   "metadata": {},
   "outputs": [],
   "source": []
  }
 ],
 "metadata": {
  "kernelspec": {
   "display_name": "Python 3",
   "language": "python",
   "name": "python3"
  },
  "language_info": {
   "codemirror_mode": {
    "name": "ipython",
    "version": 3
   },
   "file_extension": ".py",
   "mimetype": "text/x-python",
   "name": "python",
   "nbconvert_exporter": "python",
   "pygments_lexer": "ipython3",
   "version": "3.8.8"
  }
 },
 "nbformat": 4,
 "nbformat_minor": 5
}
