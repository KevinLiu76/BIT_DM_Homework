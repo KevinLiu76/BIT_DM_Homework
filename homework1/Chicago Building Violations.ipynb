{
 "cells": [
  {
   "cell_type": "markdown",
   "id": "377ef084",
   "metadata": {},
   "source": [
    "## 互评作业1：数据探索性分析与数据预处理：Chicago Building Violations\n",
    "学号：1120183560 姓名：刘文楷"
   ]
  },
  {
   "cell_type": "markdown",
   "id": "0977147f",
   "metadata": {},
   "source": [
    "### 1. 数据集：wine-reviews\n",
    "1个csv文件：\n",
    "- building-violations.csv\n",
    "\n",
    "读取数据："
   ]
  },
  {
   "cell_type": "code",
   "execution_count": 18,
   "id": "b7fdd2a1",
   "metadata": {},
   "outputs": [],
   "source": [
    "%matplotlib inline\n",
    "import matplotlib.pyplot as plt\n",
    "import numpy as np\n",
    "import pandas as pd\n",
    "import seaborn as sns"
   ]
  },
  {
   "cell_type": "code",
   "execution_count": 19,
   "id": "b17091a4",
   "metadata": {},
   "outputs": [],
   "source": [
    "dirpath_cbv = \"ChicagoBuildingViolations-data/building-violations.csv\""
   ]
  },
  {
   "cell_type": "code",
   "execution_count": 21,
   "id": "46743bbd",
   "metadata": {},
   "outputs": [
    {
     "data": {
      "text/html": [
       "<div>\n",
       "<style scoped>\n",
       "    .dataframe tbody tr th:only-of-type {\n",
       "        vertical-align: middle;\n",
       "    }\n",
       "\n",
       "    .dataframe tbody tr th {\n",
       "        vertical-align: top;\n",
       "    }\n",
       "\n",
       "    .dataframe thead th {\n",
       "        text-align: right;\n",
       "    }\n",
       "</style>\n",
       "<table border=\"1\" class=\"dataframe\">\n",
       "  <thead>\n",
       "    <tr style=\"text-align: right;\">\n",
       "      <th></th>\n",
       "      <th>ID</th>\n",
       "      <th>VIOLATION LAST MODIFIED DATE</th>\n",
       "      <th>VIOLATION DATE</th>\n",
       "      <th>VIOLATION CODE</th>\n",
       "      <th>VIOLATION STATUS</th>\n",
       "      <th>VIOLATION STATUS DATE</th>\n",
       "      <th>VIOLATION DESCRIPTION</th>\n",
       "      <th>VIOLATION LOCATION</th>\n",
       "      <th>VIOLATION INSPECTOR COMMENTS</th>\n",
       "      <th>VIOLATION ORDINANCE</th>\n",
       "      <th>...</th>\n",
       "      <th>SSA</th>\n",
       "      <th>LATITUDE</th>\n",
       "      <th>LONGITUDE</th>\n",
       "      <th>LOCATION</th>\n",
       "      <th>Community Areas</th>\n",
       "      <th>Zip Codes</th>\n",
       "      <th>Boundaries - ZIP Codes</th>\n",
       "      <th>Census Tracts</th>\n",
       "      <th>Wards</th>\n",
       "      <th>Historical Wards 2003-2015</th>\n",
       "    </tr>\n",
       "  </thead>\n",
       "  <tbody>\n",
       "    <tr>\n",
       "      <th>0</th>\n",
       "      <td>6392482</td>\n",
       "      <td>2019-12-04T12:40:09.000</td>\n",
       "      <td>2019-12-04T00:00:00.000</td>\n",
       "      <td>CN196019</td>\n",
       "      <td>OPEN</td>\n",
       "      <td>NaN</td>\n",
       "      <td>NO POSTED ADDRESS</td>\n",
       "      <td>OTHER   :    :OTHER</td>\n",
       "      <td>BUILDING ADRESSES - INCOMPLETE WITH MISSING #'S.</td>\n",
       "      <td>Post address of building in conspicuous place ...</td>\n",
       "      <td>...</td>\n",
       "      <td>NaN</td>\n",
       "      <td>41.749169</td>\n",
       "      <td>-87.602551</td>\n",
       "      <td>{'latitude': '41.749169067345306', 'human_addr...</td>\n",
       "      <td>40.0</td>\n",
       "      <td>21546.0</td>\n",
       "      <td>61.0</td>\n",
       "      <td>247.0</td>\n",
       "      <td>35.0</td>\n",
       "      <td>9.0</td>\n",
       "    </tr>\n",
       "    <tr>\n",
       "      <th>1</th>\n",
       "      <td>6392480</td>\n",
       "      <td>2019-12-04T12:40:09.000</td>\n",
       "      <td>2019-12-04T00:00:00.000</td>\n",
       "      <td>CN061014</td>\n",
       "      <td>OPEN</td>\n",
       "      <td>NaN</td>\n",
       "      <td>REPAIR EXTERIOR WALL</td>\n",
       "      <td>OTHER   :    :OTHER</td>\n",
       "      <td>WEST AND SOUTH ELEVATIONS / EXTERIOR WALLS - M...</td>\n",
       "      <td>Failed to maintain the exterior walls of a bui...</td>\n",
       "      <td>...</td>\n",
       "      <td>NaN</td>\n",
       "      <td>41.749169</td>\n",
       "      <td>-87.602551</td>\n",
       "      <td>{'latitude': '41.749169067345306', 'human_addr...</td>\n",
       "      <td>40.0</td>\n",
       "      <td>21546.0</td>\n",
       "      <td>61.0</td>\n",
       "      <td>247.0</td>\n",
       "      <td>35.0</td>\n",
       "      <td>9.0</td>\n",
       "    </tr>\n",
       "    <tr>\n",
       "      <th>2</th>\n",
       "      <td>6392335</td>\n",
       "      <td>2019-12-04T14:00:12.000</td>\n",
       "      <td>2019-12-04T00:00:00.000</td>\n",
       "      <td>CN138106</td>\n",
       "      <td>OPEN</td>\n",
       "      <td>NaN</td>\n",
       "      <td>STOP/REMOVE NUISANCE</td>\n",
       "      <td>OTHER   :    :OTHER</td>\n",
       "      <td>YARD AREA; ABANDON VEHICLE.</td>\n",
       "      <td>Remove and stop nuisance. (7-28-060)</td>\n",
       "      <td>...</td>\n",
       "      <td>NaN</td>\n",
       "      <td>41.711751</td>\n",
       "      <td>-87.537842</td>\n",
       "      <td>{'latitude': '41.71175105491413', 'human_addre...</td>\n",
       "      <td>49.0</td>\n",
       "      <td>21202.0</td>\n",
       "      <td>25.0</td>\n",
       "      <td>528.0</td>\n",
       "      <td>47.0</td>\n",
       "      <td>47.0</td>\n",
       "    </tr>\n",
       "    <tr>\n",
       "      <th>3</th>\n",
       "      <td>6391883</td>\n",
       "      <td>2019-12-04T08:32:01.000</td>\n",
       "      <td>2019-12-04T00:00:00.000</td>\n",
       "      <td>CN197039</td>\n",
       "      <td>OPEN</td>\n",
       "      <td>NaN</td>\n",
       "      <td>RELOCATE SMOKE DETECTOR</td>\n",
       "      <td>INTERIOR:003 :</td>\n",
       "      <td>HALLWAY - SMOKE DETECTOR - 4FT BELOW CEILING.</td>\n",
       "      <td>Relocate improperly installed smoke detectors....</td>\n",
       "      <td>...</td>\n",
       "      <td>25.0</td>\n",
       "      <td>41.844521</td>\n",
       "      <td>-87.712416</td>\n",
       "      <td>{'latitude': '41.84452110252742', 'human_addre...</td>\n",
       "      <td>32.0</td>\n",
       "      <td>21569.0</td>\n",
       "      <td>57.0</td>\n",
       "      <td>755.0</td>\n",
       "      <td>28.0</td>\n",
       "      <td>14.0</td>\n",
       "    </tr>\n",
       "    <tr>\n",
       "      <th>4</th>\n",
       "      <td>6392369</td>\n",
       "      <td>2019-12-04T14:14:24.000</td>\n",
       "      <td>2019-12-04T00:00:00.000</td>\n",
       "      <td>CN065034</td>\n",
       "      <td>OPEN</td>\n",
       "      <td>NaN</td>\n",
       "      <td>REPAIR WINDOW SILLS</td>\n",
       "      <td>OTHER   :    :OTHER</td>\n",
       "      <td>EAST WINDOW SILLS; OPEN JOINTS.</td>\n",
       "      <td>Failed to maintain window sill in good repair ...</td>\n",
       "      <td>...</td>\n",
       "      <td>NaN</td>\n",
       "      <td>41.753908</td>\n",
       "      <td>-87.562784</td>\n",
       "      <td>{'latitude': '41.75390787131238', 'human_addre...</td>\n",
       "      <td>39.0</td>\n",
       "      <td>22538.0</td>\n",
       "      <td>24.0</td>\n",
       "      <td>246.0</td>\n",
       "      <td>37.0</td>\n",
       "      <td>43.0</td>\n",
       "    </tr>\n",
       "  </tbody>\n",
       "</table>\n",
       "<p>5 rows × 32 columns</p>\n",
       "</div>"
      ],
      "text/plain": [
       "        ID VIOLATION LAST MODIFIED DATE           VIOLATION DATE  \\\n",
       "0  6392482      2019-12-04T12:40:09.000  2019-12-04T00:00:00.000   \n",
       "1  6392480      2019-12-04T12:40:09.000  2019-12-04T00:00:00.000   \n",
       "2  6392335      2019-12-04T14:00:12.000  2019-12-04T00:00:00.000   \n",
       "3  6391883      2019-12-04T08:32:01.000  2019-12-04T00:00:00.000   \n",
       "4  6392369      2019-12-04T14:14:24.000  2019-12-04T00:00:00.000   \n",
       "\n",
       "  VIOLATION CODE VIOLATION STATUS VIOLATION STATUS DATE  \\\n",
       "0       CN196019             OPEN                   NaN   \n",
       "1       CN061014             OPEN                   NaN   \n",
       "2       CN138106             OPEN                   NaN   \n",
       "3       CN197039             OPEN                   NaN   \n",
       "4       CN065034             OPEN                   NaN   \n",
       "\n",
       "     VIOLATION DESCRIPTION   VIOLATION LOCATION  \\\n",
       "0        NO POSTED ADDRESS  OTHER   :    :OTHER   \n",
       "1     REPAIR EXTERIOR WALL  OTHER   :    :OTHER   \n",
       "2     STOP/REMOVE NUISANCE  OTHER   :    :OTHER   \n",
       "3  RELOCATE SMOKE DETECTOR       INTERIOR:003 :   \n",
       "4      REPAIR WINDOW SILLS  OTHER   :    :OTHER   \n",
       "\n",
       "                        VIOLATION INSPECTOR COMMENTS  \\\n",
       "0   BUILDING ADRESSES - INCOMPLETE WITH MISSING #'S.   \n",
       "1  WEST AND SOUTH ELEVATIONS / EXTERIOR WALLS - M...   \n",
       "2                        YARD AREA; ABANDON VEHICLE.   \n",
       "3      HALLWAY - SMOKE DETECTOR - 4FT BELOW CEILING.   \n",
       "4                    EAST WINDOW SILLS; OPEN JOINTS.   \n",
       "\n",
       "                                 VIOLATION ORDINANCE  ...   SSA   LATITUDE  \\\n",
       "0  Post address of building in conspicuous place ...  ...   NaN  41.749169   \n",
       "1  Failed to maintain the exterior walls of a bui...  ...   NaN  41.749169   \n",
       "2               Remove and stop nuisance. (7-28-060)  ...   NaN  41.711751   \n",
       "3  Relocate improperly installed smoke detectors....  ...  25.0  41.844521   \n",
       "4  Failed to maintain window sill in good repair ...  ...   NaN  41.753908   \n",
       "\n",
       "   LONGITUDE                                           LOCATION  \\\n",
       "0 -87.602551  {'latitude': '41.749169067345306', 'human_addr...   \n",
       "1 -87.602551  {'latitude': '41.749169067345306', 'human_addr...   \n",
       "2 -87.537842  {'latitude': '41.71175105491413', 'human_addre...   \n",
       "3 -87.712416  {'latitude': '41.84452110252742', 'human_addre...   \n",
       "4 -87.562784  {'latitude': '41.75390787131238', 'human_addre...   \n",
       "\n",
       "  Community Areas Zip Codes Boundaries - ZIP Codes  Census Tracts Wards  \\\n",
       "0            40.0   21546.0                   61.0          247.0  35.0   \n",
       "1            40.0   21546.0                   61.0          247.0  35.0   \n",
       "2            49.0   21202.0                   25.0          528.0  47.0   \n",
       "3            32.0   21569.0                   57.0          755.0  28.0   \n",
       "4            39.0   22538.0                   24.0          246.0  37.0   \n",
       "\n",
       "  Historical Wards 2003-2015  \n",
       "0                        9.0  \n",
       "1                        9.0  \n",
       "2                       47.0  \n",
       "3                       14.0  \n",
       "4                       43.0  \n",
       "\n",
       "[5 rows x 32 columns]"
      ]
     },
     "execution_count": 21,
     "metadata": {},
     "output_type": "execute_result"
    }
   ],
   "source": [
    "data_cbv = pd.read_csv(dirpath_cbv)\n",
    "data_cbv.head()"
   ]
  },
  {
   "cell_type": "markdown",
   "id": "2ec7ddec",
   "metadata": {},
   "source": [
    "显示数据信息"
   ]
  },
  {
   "cell_type": "code",
   "execution_count": 22,
   "id": "f9ea2546",
   "metadata": {},
   "outputs": [
    {
     "name": "stdout",
     "output_type": "stream",
     "text": [
      "<class 'pandas.core.frame.DataFrame'>\n",
      "RangeIndex: 1677788 entries, 0 to 1677787\n",
      "Data columns (total 29 columns):\n",
      " #   Column                        Non-Null Count    Dtype  \n",
      "---  ------                        --------------    -----  \n",
      " 0   VIOLATION LAST MODIFIED DATE  1677788 non-null  object \n",
      " 1   VIOLATION DATE                1677788 non-null  object \n",
      " 2   VIOLATION CODE                1677788 non-null  object \n",
      " 3   VIOLATION STATUS              1677788 non-null  object \n",
      " 4   VIOLATION STATUS DATE         641589 non-null   object \n",
      " 5   VIOLATION LOCATION            780506 non-null   object \n",
      " 6   VIOLATION ORDINANCE           1630207 non-null  object \n",
      " 7   INSPECTOR ID                  1677788 non-null  object \n",
      " 8   INSPECTION NUMBER             1677788 non-null  int64  \n",
      " 9   INSPECTION STATUS             1677772 non-null  object \n",
      " 10  INSPECTION WAIVED             1677788 non-null  object \n",
      " 11  INSPECTION CATEGORY           1677788 non-null  object \n",
      " 12  DEPARTMENT BUREAU             1677788 non-null  object \n",
      " 13  ADDRESS                       1677788 non-null  object \n",
      " 14  STREET NUMBER                 1677788 non-null  int64  \n",
      " 15  STREET DIRECTION              1677788 non-null  object \n",
      " 16  STREET NAME                   1677788 non-null  object \n",
      " 17  STREET TYPE                   1664247 non-null  object \n",
      " 18  PROPERTY GROUP                1677788 non-null  int64  \n",
      " 19  SSA                           321521 non-null   float64\n",
      " 20  LATITUDE                      1676278 non-null  float64\n",
      " 21  LONGITUDE                     1676278 non-null  float64\n",
      " 22  LOCATION                      1676278 non-null  object \n",
      " 23  Community Areas               1675509 non-null  float64\n",
      " 24  Zip Codes                     1676278 non-null  float64\n",
      " 25  Boundaries - ZIP Codes        1675509 non-null  float64\n",
      " 26  Census Tracts                 1676243 non-null  float64\n",
      " 27  Wards                         1675509 non-null  float64\n",
      " 28  Historical Wards 2003-2015    1675509 non-null  float64\n",
      "dtypes: float64(9), int64(3), object(17)\n",
      "memory usage: 371.2+ MB\n"
     ]
    }
   ],
   "source": [
    "data_cbv = data_cbv.drop(columns=['ID', 'VIOLATION DESCRIPTION', 'VIOLATION INSPECTOR COMMENTS'])\n",
    "\n",
    "data_cbv.info()"
   ]
  },
  {
   "cell_type": "markdown",
   "id": "8f884517",
   "metadata": {},
   "source": [
    "## 2. 数据分析\n",
    "### 2.1 数据可视化和摘要\n",
    "#### 2.1.1 标称属性"
   ]
  },
  {
   "cell_type": "code",
   "execution_count": 23,
   "id": "9dda5e01",
   "metadata": {},
   "outputs": [],
   "source": [
    "title = ['VIOLATION LAST MODIFIED DATE', 'VIOLATION DATE', 'VIOLATION CODE', 'VIOLATION STATUS', 'VIOLATION STATUS DATE', 'VIOLATION LOCATION', 'VIOLATION ORDINANCE', 'INSPECTOR ID', 'INSPECTION NUMBER', 'INSPECTION STATUS', 'INSPECTION WAIVED', 'INSPECTION CATEGORY', 'DEPARTMENT BUREAU', 'ADDRESS', 'STREET NUMBER', 'STREET DIRECTION', 'STREET NAME', 'STREET TYPE', 'PROPERTY GROUP', 'SSA', 'LOCATION', 'Community Areas','Zip Codes','Boundaries - ZIP Codes','Census Tracts']"
   ]
  },
  {
   "cell_type": "code",
   "execution_count": 24,
   "id": "c47bc270",
   "metadata": {},
   "outputs": [
    {
     "data": {
      "text/plain": [
       "'VIOLATION STATUS'"
      ]
     },
     "execution_count": 24,
     "metadata": {},
     "output_type": "execute_result"
    }
   ],
   "source": [
    "# 由于本数据集属性太多，这里仅显示violation status的分析结果\n",
    "title[3]"
   ]
  },
  {
   "cell_type": "code",
   "execution_count": 25,
   "id": "60d0a2f9",
   "metadata": {},
   "outputs": [
    {
     "data": {
      "text/plain": [
       "OPEN        1030958\n",
       "COMPLIED     641247\n",
       "NO ENTRY       5583\n",
       "Name: VIOLATION STATUS, dtype: int64"
      ]
     },
     "execution_count": 25,
     "metadata": {},
     "output_type": "execute_result"
    }
   ],
   "source": [
    "getattr(data_cbv, title[3]).value_counts()"
   ]
  },
  {
   "cell_type": "code",
   "execution_count": 26,
   "id": "ed025ab1",
   "metadata": {},
   "outputs": [
    {
     "data": {
      "text/plain": [
       "<AxesSubplot:>"
      ]
     },
     "execution_count": 26,
     "metadata": {},
     "output_type": "execute_result"
    },
    {
     "data": {
      "image/png": "[encoded data removed]",
      "text/plain": [
       "<Figure size 432x288 with 1 Axes>"
      ]
     },
     "metadata": {
      "needs_background": "light"
     },
     "output_type": "display_data"
    }
   ],
   "source": [
    "data_cbv[title[3]].value_counts().head(10).plot.barh()"
   ]
  },
  {
   "cell_type": "markdown",
   "id": "89590b97",
   "metadata": {},
   "source": [
    "#### 2.2.2 数值属性\n",
    "直接调用describe函数给出数据的基本统计量"
   ]
  },
  {
   "cell_type": "code",
   "execution_count": 27,
   "id": "7a886126",
   "metadata": {},
   "outputs": [
    {
     "data": {
      "text/html": [
       "<div>\n",
       "<style scoped>\n",
       "    .dataframe tbody tr th:only-of-type {\n",
       "        vertical-align: middle;\n",
       "    }\n",
       "\n",
       "    .dataframe tbody tr th {\n",
       "        vertical-align: top;\n",
       "    }\n",
       "\n",
       "    .dataframe thead th {\n",
       "        text-align: right;\n",
       "    }\n",
       "</style>\n",
       "<table border=\"1\" class=\"dataframe\">\n",
       "  <thead>\n",
       "    <tr style=\"text-align: right;\">\n",
       "      <th></th>\n",
       "      <th>INSPECTION NUMBER</th>\n",
       "      <th>STREET NUMBER</th>\n",
       "      <th>PROPERTY GROUP</th>\n",
       "      <th>SSA</th>\n",
       "      <th>LATITUDE</th>\n",
       "      <th>LONGITUDE</th>\n",
       "      <th>Community Areas</th>\n",
       "      <th>Zip Codes</th>\n",
       "      <th>Boundaries - ZIP Codes</th>\n",
       "      <th>Census Tracts</th>\n",
       "      <th>Wards</th>\n",
       "      <th>Historical Wards 2003-2015</th>\n",
       "    </tr>\n",
       "  </thead>\n",
       "  <tbody>\n",
       "    <tr>\n",
       "      <th>count</th>\n",
       "      <td>1.677788e+06</td>\n",
       "      <td>1.677788e+06</td>\n",
       "      <td>1.677788e+06</td>\n",
       "      <td>321521.000000</td>\n",
       "      <td>1.676278e+06</td>\n",
       "      <td>1.676278e+06</td>\n",
       "      <td>1.675509e+06</td>\n",
       "      <td>1.676278e+06</td>\n",
       "      <td>1.675509e+06</td>\n",
       "      <td>1.676243e+06</td>\n",
       "      <td>1.675509e+06</td>\n",
       "      <td>1.675509e+06</td>\n",
       "    </tr>\n",
       "    <tr>\n",
       "      <th>mean</th>\n",
       "      <td>8.049798e+06</td>\n",
       "      <td>4.150382e+03</td>\n",
       "      <td>2.020547e+05</td>\n",
       "      <td>33.769197</td>\n",
       "      <td>4.184566e+01</td>\n",
       "      <td>-8.767266e+01</td>\n",
       "      <td>3.873350e+01</td>\n",
       "      <td>1.933197e+04</td>\n",
       "      <td>3.118135e+01</td>\n",
       "      <td>3.800659e+02</td>\n",
       "      <td>2.513030e+01</td>\n",
       "      <td>2.750858e+01</td>\n",
       "    </tr>\n",
       "    <tr>\n",
       "      <th>std</th>\n",
       "      <td>4.555757e+06</td>\n",
       "      <td>2.893493e+03</td>\n",
       "      <td>1.862796e+05</td>\n",
       "      <td>17.428210</td>\n",
       "      <td>8.742421e-02</td>\n",
       "      <td>5.760184e-02</td>\n",
       "      <td>2.008963e+01</td>\n",
       "      <td>5.606228e+03</td>\n",
       "      <td>1.943930e+01</td>\n",
       "      <td>2.290619e+02</td>\n",
       "      <td>1.498690e+01</td>\n",
       "      <td>1.530544e+01</td>\n",
       "    </tr>\n",
       "    <tr>\n",
       "      <th>min</th>\n",
       "      <td>2.655750e+05</td>\n",
       "      <td>1.000000e+00</td>\n",
       "      <td>1.000000e+03</td>\n",
       "      <td>1.000000</td>\n",
       "      <td>4.164467e+01</td>\n",
       "      <td>-8.791444e+01</td>\n",
       "      <td>1.000000e+00</td>\n",
       "      <td>4.299000e+03</td>\n",
       "      <td>1.000000e+00</td>\n",
       "      <td>1.000000e+00</td>\n",
       "      <td>1.000000e+00</td>\n",
       "      <td>1.000000e+00</td>\n",
       "    </tr>\n",
       "    <tr>\n",
       "      <th>25%</th>\n",
       "      <td>2.304416e+06</td>\n",
       "      <td>1.648000e+03</td>\n",
       "      <td>2.056000e+04</td>\n",
       "      <td>22.000000</td>\n",
       "      <td>4.177090e+01</td>\n",
       "      <td>-8.771392e+01</td>\n",
       "      <td>2.400000e+01</td>\n",
       "      <td>2.119000e+04</td>\n",
       "      <td>1.500000e+01</td>\n",
       "      <td>1.790000e+02</td>\n",
       "      <td>1.200000e+01</td>\n",
       "      <td>1.400000e+01</td>\n",
       "    </tr>\n",
       "    <tr>\n",
       "      <th>50%</th>\n",
       "      <td>1.041875e+07</td>\n",
       "      <td>3.747000e+03</td>\n",
       "      <td>1.543230e+05</td>\n",
       "      <td>34.000000</td>\n",
       "      <td>4.185400e+01</td>\n",
       "      <td>-8.766985e+01</td>\n",
       "      <td>3.600000e+01</td>\n",
       "      <td>2.156900e+04</td>\n",
       "      <td>2.800000e+01</td>\n",
       "      <td>3.740000e+02</td>\n",
       "      <td>2.500000e+01</td>\n",
       "      <td>2.800000e+01</td>\n",
       "    </tr>\n",
       "    <tr>\n",
       "      <th>75%</th>\n",
       "      <td>1.168728e+07</td>\n",
       "      <td>6.228000e+03</td>\n",
       "      <td>3.669840e+05</td>\n",
       "      <td>49.000000</td>\n",
       "      <td>4.191350e+01</td>\n",
       "      <td>-8.763288e+01</td>\n",
       "      <td>5.800000e+01</td>\n",
       "      <td>2.224800e+04</td>\n",
       "      <td>5.200000e+01</td>\n",
       "      <td>5.720000e+02</td>\n",
       "      <td>3.700000e+01</td>\n",
       "      <td>4.100000e+01</td>\n",
       "    </tr>\n",
       "    <tr>\n",
       "      <th>max</th>\n",
       "      <td>1.305092e+07</td>\n",
       "      <td>1.377000e+04</td>\n",
       "      <td>6.779750e+05</td>\n",
       "      <td>69.000000</td>\n",
       "      <td>4.202269e+01</td>\n",
       "      <td>-8.752468e+01</td>\n",
       "      <td>7.700000e+01</td>\n",
       "      <td>2.262000e+04</td>\n",
       "      <td>6.100000e+01</td>\n",
       "      <td>8.010000e+02</td>\n",
       "      <td>5.000000e+01</td>\n",
       "      <td>5.300000e+01</td>\n",
       "    </tr>\n",
       "  </tbody>\n",
       "</table>\n",
       "</div>"
      ],
      "text/plain": [
       "       INSPECTION NUMBER  STREET NUMBER  PROPERTY GROUP            SSA  \\\n",
       "count       1.677788e+06   1.677788e+06    1.677788e+06  321521.000000   \n",
       "mean        8.049798e+06   4.150382e+03    2.020547e+05      33.769197   \n",
       "std         4.555757e+06   2.893493e+03    1.862796e+05      17.428210   \n",
       "min         2.655750e+05   1.000000e+00    1.000000e+03       1.000000   \n",
       "25%         2.304416e+06   1.648000e+03    2.056000e+04      22.000000   \n",
       "50%         1.041875e+07   3.747000e+03    1.543230e+05      34.000000   \n",
       "75%         1.168728e+07   6.228000e+03    3.669840e+05      49.000000   \n",
       "max         1.305092e+07   1.377000e+04    6.779750e+05      69.000000   \n",
       "\n",
       "           LATITUDE     LONGITUDE  Community Areas     Zip Codes  \\\n",
       "count  1.676278e+06  1.676278e+06     1.675509e+06  1.676278e+06   \n",
       "mean   4.184566e+01 -8.767266e+01     3.873350e+01  1.933197e+04   \n",
       "std    8.742421e-02  5.760184e-02     2.008963e+01  5.606228e+03   \n",
       "min    4.164467e+01 -8.791444e+01     1.000000e+00  4.299000e+03   \n",
       "25%    4.177090e+01 -8.771392e+01     2.400000e+01  2.119000e+04   \n",
       "50%    4.185400e+01 -8.766985e+01     3.600000e+01  2.156900e+04   \n",
       "75%    4.191350e+01 -8.763288e+01     5.800000e+01  2.224800e+04   \n",
       "max    4.202269e+01 -8.752468e+01     7.700000e+01  2.262000e+04   \n",
       "\n",
       "       Boundaries - ZIP Codes  Census Tracts         Wards  \\\n",
       "count            1.675509e+06   1.676243e+06  1.675509e+06   \n",
       "mean             3.118135e+01   3.800659e+02  2.513030e+01   \n",
       "std              1.943930e+01   2.290619e+02  1.498690e+01   \n",
       "min              1.000000e+00   1.000000e+00  1.000000e+00   \n",
       "25%              1.500000e+01   1.790000e+02  1.200000e+01   \n",
       "50%              2.800000e+01   3.740000e+02  2.500000e+01   \n",
       "75%              5.200000e+01   5.720000e+02  3.700000e+01   \n",
       "max              6.100000e+01   8.010000e+02  5.000000e+01   \n",
       "\n",
       "       Historical Wards 2003-2015  \n",
       "count                1.675509e+06  \n",
       "mean                 2.750858e+01  \n",
       "std                  1.530544e+01  \n",
       "min                  1.000000e+00  \n",
       "25%                  1.400000e+01  \n",
       "50%                  2.800000e+01  \n",
       "75%                  4.100000e+01  \n",
       "max                  5.300000e+01  "
      ]
     },
     "execution_count": 27,
     "metadata": {},
     "output_type": "execute_result"
    }
   ],
   "source": [
    "data_cbv.describe()"
   ]
  },
  {
   "cell_type": "markdown",
   "id": "22155c41",
   "metadata": {},
   "source": [
    "数据可视化\n",
    "\n",
    "直方图："
   ]
  },
  {
   "cell_type": "code",
   "execution_count": 28,
   "id": "1d946c5b",
   "metadata": {
    "scrolled": true
   },
   "outputs": [
    {
     "data": {
      "image/png": "[encoded data removed]",
      "text/plain": [
       "<Figure size 1080x432 with 1 Axes>"
      ]
     },
     "metadata": {
      "needs_background": "light"
     },
     "output_type": "display_data"
    }
   ],
   "source": [
    "def histogram(data, x, y ,title):\n",
    "    plt.figure(figsize = (15,6))\n",
    "    plt.title(title)\n",
    "    sns.set_color_codes(\"pastel\")\n",
    "    sns.barplot(x=x, y=y, data=df)\n",
    "    locs, labels = plt.xticks()\n",
    "    plt.show()\n",
    "\n",
    "#SSA\n",
    "temp = data_cbv['SSA'].value_counts()\n",
    "df = pd.DataFrame({'SSA':temp.index, 'number':temp.values})\n",
    "\n",
    "histogram(df, 'SSA', 'number', 'SSA histogram')  "
   ]
  },
  {
   "cell_type": "markdown",
   "id": "605c3a20",
   "metadata": {},
   "source": [
    "盒图："
   ]
  },
  {
   "cell_type": "code",
   "execution_count": 30,
   "id": "e13dc477",
   "metadata": {},
   "outputs": [
    {
     "data": {
      "image/png": "[encoded data removed]",
      "text/plain": [
       "<Figure size 576x1080 with 1 Axes>"
      ]
     },
     "metadata": {
      "needs_background": "light"
     },
     "output_type": "display_data"
    }
   ],
   "source": [
    "fig = plt.figure(figsize=(8, 15))\n",
    "plt.boxplot(data_cbv['SSA'].loc[data_cbv['SSA']<300], notch=False, sym='o', vert=True)\n",
    "t = plt.title('Box_SSA')"
   ]
  },
  {
   "cell_type": "markdown",
   "id": "34711b7b",
   "metadata": {},
   "source": [
    "## 3. 数据缺失处理\n",
    "### 3.1 将缺失部分剔除"
   ]
  },
  {
   "cell_type": "code",
   "execution_count": 31,
   "id": "ed520ff7",
   "metadata": {},
   "outputs": [
    {
     "data": {
      "image/png": "[encoded data removed]",
      "text/plain": [
       "<Figure size 1080x432 with 1 Axes>"
      ]
     },
     "metadata": {
      "needs_background": "light"
     },
     "output_type": "display_data"
    }
   ],
   "source": [
    "data_delete = data_cbv['SSA'].dropna()\n",
    "\n",
    "temp = data_delete.value_counts()\n",
    "df = pd.DataFrame({'SSA':temp.index, 'number':temp.values})\n",
    "\n",
    "histogram(df, 'SSA', 'number', 'SSA histogram')"
   ]
  },
  {
   "cell_type": "markdown",
   "id": "b98ad200",
   "metadata": {},
   "source": [
    "### 3.2 用最高频率来填补缺失值"
   ]
  },
  {
   "cell_type": "code",
   "execution_count": 34,
   "id": "6ee7054b",
   "metadata": {},
   "outputs": [
    {
     "data": {
      "image/png": "[encoded data removed]",
      "text/plain": [
       "<Figure size 1080x432 with 1 Axes>"
      ]
     },
     "metadata": {
      "needs_background": "light"
     },
     "output_type": "display_data"
    }
   ],
   "source": [
    "data_most = data_cbv['SSA'].fillna(data_cbv['SSA'].mode()[0])\n",
    "temp = data_most.value_counts()\n",
    "df = pd.DataFrame({'SSA':temp.index, 'number':temp.values})\n",
    "histogram(df, 'SSA', 'number', 'SSA histogram')"
   ]
  },
  {
   "cell_type": "markdown",
   "id": "55d01ffa",
   "metadata": {},
   "source": [
    "### 3.3 通过属性的相关关系来填补缺失值\n",
    "使用纬度LATITUDE填补经度LONGITUDE"
   ]
  },
  {
   "cell_type": "code",
   "execution_count": 35,
   "id": "a6ec9bc6",
   "metadata": {},
   "outputs": [
    {
     "data": {
      "text/html": [
       "<div>\n",
       "<style scoped>\n",
       "    .dataframe tbody tr th:only-of-type {\n",
       "        vertical-align: middle;\n",
       "    }\n",
       "\n",
       "    .dataframe tbody tr th {\n",
       "        vertical-align: top;\n",
       "    }\n",
       "\n",
       "    .dataframe thead th {\n",
       "        text-align: right;\n",
       "    }\n",
       "</style>\n",
       "<table border=\"1\" class=\"dataframe\">\n",
       "  <thead>\n",
       "    <tr style=\"text-align: right;\">\n",
       "      <th></th>\n",
       "      <th>LATITUDE</th>\n",
       "      <th>LONGITUDE</th>\n",
       "    </tr>\n",
       "  </thead>\n",
       "  <tbody>\n",
       "    <tr>\n",
       "      <th>0</th>\n",
       "      <td>41.749169</td>\n",
       "      <td>-87.602551</td>\n",
       "    </tr>\n",
       "    <tr>\n",
       "      <th>1</th>\n",
       "      <td>41.749169</td>\n",
       "      <td>-87.602551</td>\n",
       "    </tr>\n",
       "    <tr>\n",
       "      <th>2</th>\n",
       "      <td>41.711751</td>\n",
       "      <td>-87.537842</td>\n",
       "    </tr>\n",
       "    <tr>\n",
       "      <th>3</th>\n",
       "      <td>41.844521</td>\n",
       "      <td>-87.712416</td>\n",
       "    </tr>\n",
       "    <tr>\n",
       "      <th>4</th>\n",
       "      <td>41.753908</td>\n",
       "      <td>-87.562784</td>\n",
       "    </tr>\n",
       "    <tr>\n",
       "      <th>5</th>\n",
       "      <td>41.806815</td>\n",
       "      <td>-87.611539</td>\n",
       "    </tr>\n",
       "    <tr>\n",
       "      <th>6</th>\n",
       "      <td>41.753908</td>\n",
       "      <td>-87.562784</td>\n",
       "    </tr>\n",
       "    <tr>\n",
       "      <th>7</th>\n",
       "      <td>41.749169</td>\n",
       "      <td>-87.602551</td>\n",
       "    </tr>\n",
       "    <tr>\n",
       "      <th>8</th>\n",
       "      <td>41.711751</td>\n",
       "      <td>-87.537842</td>\n",
       "    </tr>\n",
       "    <tr>\n",
       "      <th>9</th>\n",
       "      <td>41.748732</td>\n",
       "      <td>-87.659904</td>\n",
       "    </tr>\n",
       "  </tbody>\n",
       "</table>\n",
       "</div>"
      ],
      "text/plain": [
       "    LATITUDE  LONGITUDE\n",
       "0  41.749169 -87.602551\n",
       "1  41.749169 -87.602551\n",
       "2  41.711751 -87.537842\n",
       "3  41.844521 -87.712416\n",
       "4  41.753908 -87.562784\n",
       "5  41.806815 -87.611539\n",
       "6  41.753908 -87.562784\n",
       "7  41.749169 -87.602551\n",
       "8  41.711751 -87.537842\n",
       "9  41.748732 -87.659904"
      ]
     },
     "execution_count": 35,
     "metadata": {},
     "output_type": "execute_result"
    }
   ],
   "source": [
    "data_fill = pd.DataFrame(data_cbv, columns=['LATITUDE', 'LONGITUDE'])\n",
    "data_fill.head(10)"
   ]
  },
  {
   "cell_type": "code",
   "execution_count": 36,
   "id": "65123e40",
   "metadata": {},
   "outputs": [
    {
     "data": {
      "text/plain": [
       "<AxesSubplot:>"
      ]
     },
     "execution_count": 36,
     "metadata": {},
     "output_type": "execute_result"
    },
    {
     "data": {
      "image/png": "[encoded data removed]",
      "text/plain": [
       "<Figure size 432x288 with 1 Axes>"
      ]
     },
     "metadata": {
      "needs_background": "light"
     },
     "output_type": "display_data"
    }
   ],
   "source": [
    "data_fill['LONGITUDE'].value_counts().head(10).plot.barh()"
   ]
  },
  {
   "cell_type": "markdown",
   "id": "0aaa2e1c",
   "metadata": {},
   "source": [
    "### 3.4 通过数据对象之间的相似性来填补缺失值\n"
   ]
  },
  {
   "cell_type": "code",
   "execution_count": 38,
   "id": "946f186d",
   "metadata": {},
   "outputs": [],
   "source": [
    "data_sim = data_cbv[['LATITUDE','LONGITUDE']]\n",
    "point2price = {}\n",
    "for row in data_sim.iterrows():\n",
    "    if point2price.get(row[1]['LONGITUDE'], None):\n",
    "        if not pd.isnull(row[1]['LATITUDE']):\n",
    "            point2price[row[1]['LONGITUDE']][0] += row[1]['LATITUDE']\n",
    "            point2price[row[1]['LONGITUDE']][1] += 1\n",
    "    else:\n",
    "        if not pd.isnull(row[1]['LATITUDE']):\n",
    "            point2price[row[1]['LONGITUDE']] = [row[1]['LATITUDE'], 1]"
   ]
  },
  {
   "cell_type": "code",
   "execution_count": 39,
   "id": "08ad991d",
   "metadata": {},
   "outputs": [],
   "source": [
    "for k in point2price.keys():\n",
    "    point2price[k][0] = round(point2price[k][0] / point2price[k][1], 4)"
   ]
  },
  {
   "cell_type": "code",
   "execution_count": 40,
   "id": "5df733b0",
   "metadata": {},
   "outputs": [],
   "source": [
    "for row in data_sim.iterrows():\n",
    "    if pd.isnull(row[1]['LATITUDE']):\n",
    "        try:\n",
    "            row[1]['LATITUDE'] = point2price[row[1]['LONGITUDE']][0]\n",
    "        except:\n",
    "            continue"
   ]
  },
  {
   "cell_type": "code",
   "execution_count": null,
   "id": "41246be9",
   "metadata": {},
   "outputs": [],
   "source": [
    "#对被填充后的price画直方图\n",
    "temp = data_sim['LATITUDE'].value_counts()\n",
    "df = pd.DataFrame({'LATITUDE':temp.index, 'number':temp.values})\n",
    "\n",
    "histogram(df, 'LATITUDE', 'number', 'LATITUDE histogram')"
   ]
  },
  {
   "cell_type": "code",
   "execution_count": null,
   "id": "f1aa9b48",
   "metadata": {},
   "outputs": [],
   "source": []
  }
 ],
 "metadata": {
  "kernelspec": {
   "display_name": "Python 3",
   "language": "python",
   "name": "python3"
  },
  "language_info": {
   "codemirror_mode": {
    "name": "ipython",
    "version": 3
   },
   "file_extension": ".py",
   "mimetype": "text/x-python",
   "name": "python",
   "nbconvert_exporter": "python",
   "pygments_lexer": "ipython3",
   "version": "3.8.8"
  }
 },
 "nbformat": 4,
 "nbformat_minor": 5
}
